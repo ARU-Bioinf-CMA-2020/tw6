{
 "cells": [
  {
   "cell_type": "markdown",
   "metadata": {},
   "source": [
    "# BLAST method for database searching\n",
    "This practical uses the simple BLAST algorithm 'MyBlast' from Chapter 7 of Rocha and Ferreira (2018) Bioinformatics Algorithms. \n",
    "\n",
    "It is not supposed to be a fully-fledged program but aims only to show the initial steps in the database search method. \n",
    "\n",
    "The first step is to create a database. This will be a text file containing a set of strings representing the sequencees to be searched. Each sequence is short enough in the test data to be given as a single line in the file. \n",
    "\n",
    "The authors provide a test data file callled seqBlast.txt\n",
    "\n",
    "The function read_database opens that file and creates the database."
   ]
  },
  {
   "cell_type": "code",
   "execution_count": 1,
   "metadata": {},
   "outputs": [],
   "source": [
    "def read_database (filename):    \n",
    "    \"\"\"\"\n",
    "    reads the sequences to search from a text file \n",
    "    \"\"\"\n",
    "    file = open (filename)\n",
    "    db = []\n",
    "    for line in file:\n",
    "        db.append(line.rstrip())\n",
    "    file.close()\n",
    "    return db"
   ]
  },
  {
   "cell_type": "markdown",
   "metadata": {},
   "source": [
    "The next step is to pre-process the query sequence. The authors call this producing a 'map' of all word of a particular size (an adjustable parameter here - although remember that larger words are more demanding). A table of these can be a Python dictionary - as that naturally reproduces the hashing method described in the lecture. "
   ]
  },
  {
   "cell_type": "code",
   "execution_count": 2,
   "metadata": {},
   "outputs": [],
   "source": [
    "def build_map (query, w):\n",
    "    \"\"\"\n",
    "    preprocesses the query to store the positions of words\n",
    "    \"\"\"\n",
    "    res = {}\n",
    "    for i in range(len(query)-w+1):\n",
    "        subseq = query[i:i+w]\n",
    "        if subseq in res:\n",
    "            res[subseq].append(i)\n",
    "        else:\n",
    "            res[subseq] = [i]\n",
    "    return res"
   ]
  },
  {
   "cell_type": "markdown",
   "metadata": {},
   "source": [
    "In the authors' simplified version of the algorithm they do not use a substitution table but instead a simple scoring function similar to the one used for the Smith-Waterman example. The function gives a positive score only to perfect hits. As explained in the lecture this has to be the default for many protein sequence words in BLOSUM62 as well. \n",
    "\n",
    "The next function get_hits will scan a sequence and find all matches of the words from the query map. These are considered 'hits'."
   ]
  },
  {
   "cell_type": "code",
   "execution_count": 3,
   "metadata": {},
   "outputs": [],
   "source": [
    "def get_hits (seq, map, w):\n",
    "    \"\"\"\n",
    "    scans the sequence for word hit in map\n",
    "    returns tuples: \n",
    "    index of match in query with the\n",
    "    index of match in sequence\n",
    "    \"\"\"    \n",
    "    res = []  # list of tuples\n",
    "    for i in range(len(seq)-w+1):\n",
    "        subseq = seq[i:i+w]\n",
    "        if subseq in map:\n",
    "            l = map[subseq]\n",
    "            for ind in l:\n",
    "                res.append( (ind,i) )\n",
    "    return res"
   ]
  },
  {
   "cell_type": "markdown",
   "metadata": {},
   "source": [
    "The next step is to extend the hits found by the previous function. \n",
    "\n",
    "Here the the hit is extended while the new aligned positions score greated than or equal to half of the new positions.\n",
    "\n",
    "No gaps are used. But a check needs to be made that the extension has not reached the end of either the query or the sequence. "
   ]
  },
  {
   "cell_type": "code",
   "execution_count": 4,
   "metadata": {},
   "outputs": [],
   "source": [
    "def extends_hit (seq, hit, query, w):\n",
    "    \"\"\"\n",
    "    the hit positions are extended\n",
    "    based on the sequence and query matches\n",
    "    on either side\n",
    "    \"\"\"    \n",
    "    stq, sts = hit[0], hit[1]\n",
    "    ## extend hit forward\n",
    "    matfw = 0       \n",
    "    k=0\n",
    "    bestk = 0\n",
    "    while 2*matfw >= k and stq+w+k < len(query) and sts+w+k < len(seq):\n",
    "        if query[stq+w+k] == seq[sts+w+k]: \n",
    "            matfw+=1\n",
    "            bestk = k+1\n",
    "        k += 1\n",
    "    size = w + bestk\n",
    "    ## extend hit backwards\n",
    "    k = 0\n",
    "    matbw = 0   \n",
    "    bestk = 0\n",
    "    while 2*matbw >= k and stq > k and sts > k:\n",
    "        if query[stq-k-1] == seq[sts-k-1]: \n",
    "            matbw+=1\n",
    "            bestk = k+1\n",
    "        k+=1       \n",
    "    size += bestk\n",
    "    \n",
    "    return (stq-bestk, sts-bestk, size, w+matfw+matbw)\n"
   ]
  },
  {
   "cell_type": "markdown",
   "metadata": {},
   "source": [
    "The output for the extended hit is an alignment starting positions in the query and in the sequence, its size and finally a count of identity matches added to the word length. The words from hits are all fully identical by definition in this implementation. The identity count is a measure of the final score for the extended alignment.\n",
    "\n",
    "The extend_hit function is applied to all the hits in turn by the following function hit_best_score. It then returns the top scoring one. "
   ]
  },
  {
   "cell_type": "code",
   "execution_count": 5,
   "metadata": {},
   "outputs": [],
   "source": [
    "def hit_best_score(seq, query, m, w):\n",
    "    \"\"\"\n",
    "    the hit positions are extended\n",
    "    based on the sequence and query matches\n",
    "    on either side\n",
    "    \"\"\"   \n",
    "    hits = get_hits(seq, m, w)\n",
    "    bestScore = -1.0\n",
    "    best = ()\n",
    "    for h in hits:\n",
    "        ext = extends_hit(seq, h, query, w)\n",
    "        score = ext[3]\n",
    "        if score > bestScore or (score== bestScore and ext[2] < best[2]):\n",
    "            bestScore = score\n",
    "            best = ext\n",
    "    return best"
   ]
  },
  {
   "cell_type": "markdown",
   "metadata": {},
   "source": [
    "The final step is to apply the previous functions to compare the query with all the sequences in the database. The best overall alignment is found for sequences with hits. The result is a tuple similar to the ones above. "
   ]
  },
  {
   "cell_type": "code",
   "execution_count": 6,
   "metadata": {},
   "outputs": [],
   "source": [
    "def best_alignment (db, query, w):\n",
    "    \"\"\"\n",
    "    compare the query with all the sequences\n",
    "    in the database \n",
    "    all significant scores >=0 are returned\n",
    "    \"\"\"    \n",
    "    m = build_map(query, w)\n",
    "    bestScore = -1.0\n",
    "    res = (0,0,0,0,0)\n",
    "    for k in range(0,len(db)):\n",
    "        bestSeq = hit_best_score(db[k], query, m, w)\n",
    "        if bestSeq != ():\n",
    "            score = bestSeq[3]  \n",
    "            if score > bestScore or (score== bestScore and bestSeq[2] < res[2]):\n",
    "                bestScore = score\n",
    "                res = bestSeq[0], bestSeq[1], bestSeq[2], bestSeq[3], k\n",
    "    if bestScore < 0: return ()\n",
    "    else: return res"
   ]
  },
  {
   "cell_type": "markdown",
   "metadata": {},
   "source": [
    "Applying it to a database from the test data file.  The standard DNA word length of 11 is used."
   ]
  },
  {
   "cell_type": "code",
   "execution_count": 10,
   "metadata": {},
   "outputs": [
    {
     "name": "stdout",
     "output_type": "stream",
     "text": [
      "(1, 38, 149, 108, 3)\n"
     ]
    }
   ],
   "source": [
    "db = read_database(\"C:\\\\Users\\\\mfs1001\\\\Desktop\\\\seqBlast.txt\")\n",
    "query = \"gacgcctcgcgctcgcgcgctgaggcaaaaaaaaaaaaaaaaaaaatcggatagctagctgagcgctcgatagcgcgttcgctgcatcgcgtatagcgctgaagctcccggcgagctgtctgtaaatcggatctcatctcgctctatcct\"\n",
    "r = best_alignment(db, query, 11)\n",
    "print(r)"
   ]
  },
  {
   "cell_type": "code",
   "execution_count": 11,
   "metadata": {},
   "outputs": [
    {
     "name": "stdout",
     "output_type": "stream",
     "text": [
      "(0, 0, 21, 21, 4)\n"
     ]
    }
   ],
   "source": [
    "query2 = \"cgacgacgacgacgaatgatg\"\n",
    "r = best_alignment(db, query2, 11)\n",
    "print(r)"
   ]
  },
  {
   "cell_type": "code",
   "execution_count": null,
   "metadata": {},
   "outputs": [],
   "source": []
  }
 ],
 "metadata": {
  "kernelspec": {
   "display_name": "Python 3",
   "language": "python",
   "name": "python3"
  },
  "language_info": {
   "codemirror_mode": {
    "name": "ipython",
    "version": 3
   },
   "file_extension": ".py",
   "mimetype": "text/x-python",
   "name": "python",
   "nbconvert_exporter": "python",
   "pygments_lexer": "ipython3",
   "version": "3.7.4"
  }
 },
 "nbformat": 4,
 "nbformat_minor": 2
}
